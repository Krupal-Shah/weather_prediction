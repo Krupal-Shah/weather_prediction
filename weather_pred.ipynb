{
 "cells": [
  {
   "cell_type": "markdown",
   "metadata": {},
   "source": [
    "# Weather Prediction Model"
   ]
  },
  {
   "cell_type": "markdown",
   "metadata": {},
   "source": [
    "### Importing all Libraries"
   ]
  },
  {
   "cell_type": "code",
   "execution_count": 15,
   "metadata": {},
   "outputs": [],
   "source": [
    "import pandas as pd\n",
    "import numpy as np\n",
    "import matplotlib.pyplot as plt\n",
    "import seaborn as sns\n",
    "import requests\n",
    "import json\n",
    "import warnings\n",
    "import sklearn\n",
    "warnings.simplefilter('ignore', FutureWarning)\n",
    "pd.options.mode.chained_assignment = None"
   ]
  },
  {
   "cell_type": "markdown",
   "metadata": {},
   "source": [
    "### Extracting data from API"
   ]
  },
  {
   "cell_type": "code",
   "execution_count": 2,
   "metadata": {},
   "outputs": [
    {
     "name": "stdout",
     "output_type": "stream",
     "text": [
      "Fetched 1000 new rows\n",
      "Fetched 1000 new rows\n",
      "Fetched 1000 new rows\n",
      "Fetched 1000 new rows\n",
      "Fetched 1000 new rows\n",
      "Fetched 1000 new rows\n",
      "Fetched 1000 new rows\n",
      "Fetched 1000 new rows\n",
      "Fetched 1000 new rows\n",
      "Fetched 1000 new rows\n",
      "Fetched 1000 new rows\n",
      "Fetched 1000 new rows\n",
      "Fetched 1000 new rows\n",
      "Fetched 1000 new rows\n",
      "Fetched 1000 new rows\n",
      "Fetched 1000 new rows\n",
      "Fetched 1000 new rows\n",
      "Fetched 1000 new rows\n",
      "Fetched 1000 new rows\n",
      "Fetched 1000 new rows\n",
      "Fetched 1000 new rows\n",
      "Fetched 1000 new rows\n",
      "Fetched 1000 new rows\n",
      "Fetched 1000 new rows\n",
      "Fetched 1000 new rows\n",
      "Fetched 1000 new rows\n",
      "Fetched 1000 new rows\n",
      "Fetched 1000 new rows\n",
      "Fetched 1000 new rows\n",
      "Fetched 1000 new rows\n",
      "Fetched 1000 new rows\n",
      "Fetched 1000 new rows\n",
      "Fetched 1000 new rows\n",
      "Fetched 1000 new rows\n",
      "Fetched 1000 new rows\n",
      "Fetched 1000 new rows\n",
      "Fetched 1000 new rows\n",
      "Fetched 1000 new rows\n",
      "Fetched 1000 new rows\n",
      "Fetched 1000 new rows\n",
      "Fetched 1000 new rows\n",
      "Fetched 1000 new rows\n",
      "Fetched 1000 new rows\n",
      "Fetched 1000 new rows\n",
      "Fetched 1000 new rows\n",
      "Fetched 1000 new rows\n",
      "Fetched 1000 new rows\n",
      "Fetched 1000 new rows\n",
      "Fetched 1000 new rows\n",
      "Fetched 1000 new rows\n",
      "Fetched 1000 new rows\n",
      "Fetched 1000 new rows\n",
      "Fetched 1000 new rows\n",
      "Fetched 1000 new rows\n",
      "Fetched 1000 new rows\n",
      "Fetched 1000 new rows\n",
      "Fetched 1000 new rows\n",
      "Fetched 1000 new rows\n",
      "Fetched 1000 new rows\n",
      "Fetched 1000 new rows\n",
      "Fetched 1000 new rows\n",
      "Fetched 1000 new rows\n",
      "Fetched 1000 new rows\n",
      "Fetched 1000 new rows\n",
      "Fetched 1000 new rows\n",
      "Fetched 1000 new rows\n",
      "Fetched 1000 new rows\n",
      "Fetched 1000 new rows\n",
      "Fetched 1000 new rows\n",
      "Fetched 1000 new rows\n",
      "Fetched 1000 new rows\n",
      "Fetched 1000 new rows\n",
      "Fetched 1000 new rows\n",
      "Fetched 1000 new rows\n",
      "Fetched 1000 new rows\n",
      "Fetched 1000 new rows\n",
      "Fetched 1000 new rows\n",
      "Fetched 1000 new rows\n",
      "Fetched 1000 new rows\n",
      "Fetched 1000 new rows\n",
      "Fetched 318 new rows\n",
      "Fetched 0 new rows\n"
     ]
    },
    {
     "data": {
      "text/html": [
       "<div>\n",
       "<style scoped>\n",
       "    .dataframe tbody tr th:only-of-type {\n",
       "        vertical-align: middle;\n",
       "    }\n",
       "\n",
       "    .dataframe tbody tr th {\n",
       "        vertical-align: top;\n",
       "    }\n",
       "\n",
       "    .dataframe thead th {\n",
       "        text-align: right;\n",
       "    }\n",
       "</style>\n",
       "<table border=\"1\" class=\"dataframe\">\n",
       "  <thead>\n",
       "    <tr style=\"text-align: right;\">\n",
       "      <th></th>\n",
       "      <th>row_id</th>\n",
       "      <th>station_id</th>\n",
       "      <th>station_name</th>\n",
       "      <th>station_province</th>\n",
       "      <th>station_latitude</th>\n",
       "      <th>station_longitude</th>\n",
       "      <th>location</th>\n",
       "      <th>station_elevation_m</th>\n",
       "      <th>station_climate_identifier</th>\n",
       "      <th>station_wmo_identifier</th>\n",
       "      <th>...</th>\n",
       "      <th>:@computed_region_bhid_jnzh</th>\n",
       "      <th>:@computed_region_ecxu_fw7u</th>\n",
       "      <th>snow_on_ground_cm</th>\n",
       "      <th>speed_of_maximum_wind_gust_km_h</th>\n",
       "      <th>direction_of_maximum_wind_gust_10s_deg</th>\n",
       "      <th>data_quality</th>\n",
       "      <th>total_rain_flag</th>\n",
       "      <th>total_snow_flag</th>\n",
       "      <th>total_rain_mm</th>\n",
       "      <th>total_snow_cm</th>\n",
       "    </tr>\n",
       "  </thead>\n",
       "  <tbody>\n",
       "    <tr>\n",
       "      <th>0</th>\n",
       "      <td>2721420210414</td>\n",
       "      <td>27214</td>\n",
       "      <td>EDMONTON BLATCHFORD</td>\n",
       "      <td>ALBERTA</td>\n",
       "      <td>53.57</td>\n",
       "      <td>-113.52</td>\n",
       "      <td>{'latitude': '53.57', 'longitude': '-113.52', ...</td>\n",
       "      <td>671.00</td>\n",
       "      <td>3012209</td>\n",
       "      <td>71157</td>\n",
       "      <td>...</td>\n",
       "      <td>114</td>\n",
       "      <td>221</td>\n",
       "      <td>NaN</td>\n",
       "      <td>NaN</td>\n",
       "      <td>NaN</td>\n",
       "      <td>NaN</td>\n",
       "      <td>NaN</td>\n",
       "      <td>NaN</td>\n",
       "      <td>NaN</td>\n",
       "      <td>NaN</td>\n",
       "    </tr>\n",
       "    <tr>\n",
       "      <th>1</th>\n",
       "      <td>2721420210415</td>\n",
       "      <td>27214</td>\n",
       "      <td>EDMONTON BLATCHFORD</td>\n",
       "      <td>ALBERTA</td>\n",
       "      <td>53.57</td>\n",
       "      <td>-113.52</td>\n",
       "      <td>{'latitude': '53.57', 'longitude': '-113.52', ...</td>\n",
       "      <td>671.00</td>\n",
       "      <td>3012209</td>\n",
       "      <td>71157</td>\n",
       "      <td>...</td>\n",
       "      <td>114</td>\n",
       "      <td>221</td>\n",
       "      <td>NaN</td>\n",
       "      <td>NaN</td>\n",
       "      <td>NaN</td>\n",
       "      <td>NaN</td>\n",
       "      <td>NaN</td>\n",
       "      <td>NaN</td>\n",
       "      <td>NaN</td>\n",
       "      <td>NaN</td>\n",
       "    </tr>\n",
       "    <tr>\n",
       "      <th>2</th>\n",
       "      <td>2721420210510</td>\n",
       "      <td>27214</td>\n",
       "      <td>EDMONTON BLATCHFORD</td>\n",
       "      <td>ALBERTA</td>\n",
       "      <td>53.57</td>\n",
       "      <td>-113.52</td>\n",
       "      <td>{'latitude': '53.57', 'longitude': '-113.52', ...</td>\n",
       "      <td>671.00</td>\n",
       "      <td>3012209</td>\n",
       "      <td>71157</td>\n",
       "      <td>...</td>\n",
       "      <td>114</td>\n",
       "      <td>221</td>\n",
       "      <td>NaN</td>\n",
       "      <td>NaN</td>\n",
       "      <td>NaN</td>\n",
       "      <td>NaN</td>\n",
       "      <td>NaN</td>\n",
       "      <td>NaN</td>\n",
       "      <td>NaN</td>\n",
       "      <td>NaN</td>\n",
       "    </tr>\n",
       "    <tr>\n",
       "      <th>3</th>\n",
       "      <td>2721420210511</td>\n",
       "      <td>27214</td>\n",
       "      <td>EDMONTON BLATCHFORD</td>\n",
       "      <td>ALBERTA</td>\n",
       "      <td>53.57</td>\n",
       "      <td>-113.52</td>\n",
       "      <td>{'latitude': '53.57', 'longitude': '-113.52', ...</td>\n",
       "      <td>671.00</td>\n",
       "      <td>3012209</td>\n",
       "      <td>71157</td>\n",
       "      <td>...</td>\n",
       "      <td>114</td>\n",
       "      <td>221</td>\n",
       "      <td>NaN</td>\n",
       "      <td>NaN</td>\n",
       "      <td>NaN</td>\n",
       "      <td>NaN</td>\n",
       "      <td>NaN</td>\n",
       "      <td>NaN</td>\n",
       "      <td>NaN</td>\n",
       "      <td>NaN</td>\n",
       "    </tr>\n",
       "    <tr>\n",
       "      <th>4</th>\n",
       "      <td>2721420210127</td>\n",
       "      <td>27214</td>\n",
       "      <td>EDMONTON BLATCHFORD</td>\n",
       "      <td>ALBERTA</td>\n",
       "      <td>53.57</td>\n",
       "      <td>-113.52</td>\n",
       "      <td>{'latitude': '53.57', 'longitude': '-113.52', ...</td>\n",
       "      <td>671.00</td>\n",
       "      <td>3012209</td>\n",
       "      <td>71157</td>\n",
       "      <td>...</td>\n",
       "      <td>114</td>\n",
       "      <td>221</td>\n",
       "      <td>18</td>\n",
       "      <td>NaN</td>\n",
       "      <td>NaN</td>\n",
       "      <td>NaN</td>\n",
       "      <td>NaN</td>\n",
       "      <td>NaN</td>\n",
       "      <td>NaN</td>\n",
       "      <td>NaN</td>\n",
       "    </tr>\n",
       "  </tbody>\n",
       "</table>\n",
       "<p>5 rows × 34 columns</p>\n",
       "</div>"
      ],
      "text/plain": [
       "          row_id station_id         station_name station_province  \\\n",
       "0  2721420210414      27214  EDMONTON BLATCHFORD          ALBERTA   \n",
       "1  2721420210415      27214  EDMONTON BLATCHFORD          ALBERTA   \n",
       "2  2721420210510      27214  EDMONTON BLATCHFORD          ALBERTA   \n",
       "3  2721420210511      27214  EDMONTON BLATCHFORD          ALBERTA   \n",
       "4  2721420210127      27214  EDMONTON BLATCHFORD          ALBERTA   \n",
       "\n",
       "  station_latitude station_longitude  \\\n",
       "0            53.57           -113.52   \n",
       "1            53.57           -113.52   \n",
       "2            53.57           -113.52   \n",
       "3            53.57           -113.52   \n",
       "4            53.57           -113.52   \n",
       "\n",
       "                                            location station_elevation_m  \\\n",
       "0  {'latitude': '53.57', 'longitude': '-113.52', ...              671.00   \n",
       "1  {'latitude': '53.57', 'longitude': '-113.52', ...              671.00   \n",
       "2  {'latitude': '53.57', 'longitude': '-113.52', ...              671.00   \n",
       "3  {'latitude': '53.57', 'longitude': '-113.52', ...              671.00   \n",
       "4  {'latitude': '53.57', 'longitude': '-113.52', ...              671.00   \n",
       "\n",
       "  station_climate_identifier station_wmo_identifier  ...  \\\n",
       "0                    3012209                  71157  ...   \n",
       "1                    3012209                  71157  ...   \n",
       "2                    3012209                  71157  ...   \n",
       "3                    3012209                  71157  ...   \n",
       "4                    3012209                  71157  ...   \n",
       "\n",
       "  :@computed_region_bhid_jnzh :@computed_region_ecxu_fw7u snow_on_ground_cm  \\\n",
       "0                         114                         221               NaN   \n",
       "1                         114                         221               NaN   \n",
       "2                         114                         221               NaN   \n",
       "3                         114                         221               NaN   \n",
       "4                         114                         221                18   \n",
       "\n",
       "  speed_of_maximum_wind_gust_km_h direction_of_maximum_wind_gust_10s_deg  \\\n",
       "0                             NaN                                    NaN   \n",
       "1                             NaN                                    NaN   \n",
       "2                             NaN                                    NaN   \n",
       "3                             NaN                                    NaN   \n",
       "4                             NaN                                    NaN   \n",
       "\n",
       "  data_quality total_rain_flag total_snow_flag total_rain_mm total_snow_cm  \n",
       "0          NaN             NaN             NaN           NaN           NaN  \n",
       "1          NaN             NaN             NaN           NaN           NaN  \n",
       "2          NaN             NaN             NaN           NaN           NaN  \n",
       "3          NaN             NaN             NaN           NaN           NaN  \n",
       "4          NaN             NaN             NaN           NaN           NaN  \n",
       "\n",
       "[5 rows x 34 columns]"
      ]
     },
     "execution_count": 2,
     "metadata": {},
     "output_type": "execute_result"
    }
   ],
   "source": [
    "data = pd.DataFrame()\n",
    "offset = 0\n",
    "while True:\n",
    "    response = requests.get(f'https://data.edmonton.ca/resource/s4ws-tdws.json?$offset={offset}')\n",
    "    new_data = pd.DataFrame(json.loads(response.text))\n",
    "    print(f'Fetched {len(new_data)} new rows')\n",
    "    if len(new_data) == 0:\n",
    "        break\n",
    "    data = pd.concat([data, new_data])\n",
    "    offset += len(new_data)\n",
    "data.head()"
   ]
  },
  {
   "cell_type": "markdown",
   "metadata": {},
   "source": [
    "### Creating a copy"
   ]
  },
  {
   "cell_type": "code",
   "execution_count": 3,
   "metadata": {},
   "outputs": [],
   "source": [
    "dataCopy = data.copy()"
   ]
  },
  {
   "cell_type": "code",
   "execution_count": 28,
   "metadata": {},
   "outputs": [],
   "source": [
    "data = dataCopy"
   ]
  },
  {
   "cell_type": "markdown",
   "metadata": {},
   "source": [
    "### Data Preprocessing"
   ]
  },
  {
   "cell_type": "code",
   "execution_count": 29,
   "metadata": {},
   "outputs": [
    {
     "data": {
      "text/plain": [
       "Index(['row_id', 'station_id', 'station_name', 'station_province',\n",
       "       'station_latitude', 'station_longitude', 'location',\n",
       "       'station_elevation_m', 'station_climate_identifier',\n",
       "       'station_wmo_identifier', 'station_tc_identifier', 'year', 'month',\n",
       "       'day', 'date', 'maximum_temperature_c', 'minimum_temperature_c',\n",
       "       'mean_temperature_c', 'heating_degree_days_c', 'cooling_degree_days_c',\n",
       "       'total_precipitation_mm', ':@computed_region_da6r_6gkw',\n",
       "       ':@computed_region_uxfu_uxx8', ':@computed_region_ive2_3q52',\n",
       "       ':@computed_region_bhid_jnzh', ':@computed_region_ecxu_fw7u',\n",
       "       'snow_on_ground_cm', 'speed_of_maximum_wind_gust_km_h',\n",
       "       'direction_of_maximum_wind_gust_10s_deg', 'data_quality',\n",
       "       'total_rain_flag', 'total_snow_flag', 'total_rain_mm', 'total_snow_cm'],\n",
       "      dtype='object')"
      ]
     },
     "execution_count": 29,
     "metadata": {},
     "output_type": "execute_result"
    }
   ],
   "source": [
    "data.columns"
   ]
  },
  {
   "cell_type": "code",
   "execution_count": 30,
   "metadata": {},
   "outputs": [
    {
     "data": {
      "text/plain": [
       "Edmonton International Airport    19403\n",
       "Stony Plain                       17655\n",
       "Downtown                          16606\n",
       "Namao                             16378\n",
       "New Sarepta                        6197\n",
       "Villeneuve Airport                 4079\n",
       "Name: station_name, dtype: int64"
      ]
     },
     "execution_count": 30,
     "metadata": {},
     "output_type": "execute_result"
    }
   ],
   "source": [
    "data.station_name.value_counts()"
   ]
  },
  {
   "cell_type": "markdown",
   "metadata": {},
   "source": [
    "#### For further details of the following replacement refer to the link:\n",
    "https://www.mapcustomizer.com/map/Weather%20Analysis <br>\n",
    "https://www.windfinder.com/#10/53.5578/-113.4544/spot"
   ]
  },
  {
   "cell_type": "code",
   "execution_count": 31,
   "metadata": {},
   "outputs": [
    {
     "data": {
      "text/plain": [
       "Edmonton International Airport    19403\n",
       "Stony Plain                       17655\n",
       "Downtown                          16606\n",
       "Namao                             16378\n",
       "New Sarepta                        6197\n",
       "Villeneuve Airport                 4079\n",
       "Name: station_name, dtype: int64"
      ]
     },
     "execution_count": 31,
     "metadata": {},
     "output_type": "execute_result"
    }
   ],
   "source": [
    "data.replace({'station_name': {'EDMONTON STONY PLAIN CS': 'Stony Plain', \n",
    "                               'EDMONTON BLATCHFORD': 'Downtown', \n",
    "                               'EDMONTON INTERNATIONAL CS': 'Edmonton International Airport', \n",
    "                               'EDMONTON STONY PLAIN': 'Stony Plain', \n",
    "                               'EDMONTON NAMAO AWOS A': 'Namao', \n",
    "                               'OLIVER AGDM': 'Namao', \n",
    "                               'THORSBY AGCM': 'Edmonton International Airport', \n",
    "                               'NEW SAREPTA AGCM': \"New Sarepta\", \n",
    "                               'EDMONTON INTL A': 'Edmonton International Airport',\n",
    "                               'EDMONTON VILLENEUVE A': 'Villeneuve Airport', \n",
    "                               'EDMONTON NAMAO A': 'Namao',\n",
    "                               'LEGAL AGCM': 'Downtown',\n",
    "                               'EDMONTON SOUTH CAMPUS': \"Downtown\"}}, inplace=True)\n",
    "data.station_name.value_counts()"
   ]
  },
  {
   "cell_type": "code",
   "execution_count": 32,
   "metadata": {},
   "outputs": [
    {
     "data": {
      "text/plain": [
       "station_name                    station_province  station_latitude  station_longitude  station_elevation_m\n",
       "Downtown                        ALBERTA           53.57             -113.52            671.0                  1\n",
       "Edmonton International Airport  ALBERTA           53.22             -113.89            754.0                  1\n",
       "Namao                           ALBERTA           53.67             -113.47            687.9                  1\n",
       "New Sarepta                     ALBERTA           53.26             -113.17            765.0                  1\n",
       "Stony Plain                     ALBERTA           53.55             -114.11            766.3                  1\n",
       "Villeneuve Airport              ALBERTA           53.67             -113.86            687.6                  1\n",
       "dtype: int64"
      ]
     },
     "execution_count": 32,
     "metadata": {},
     "output_type": "execute_result"
    }
   ],
   "source": [
    "data_info = data[['station_name', 'station_province', 'station_latitude',\n",
    "                   'station_longitude', 'station_elevation_m']].dropna()\n",
    "data_info[['station_latitude', 'station_longitude', 'station_elevation_m']] = data_info[['station_latitude', 'station_longitude', 'station_elevation_m']].astype(float)\n",
    "data_info = data_info.drop_duplicates(subset=['station_name', 'station_province'])\n",
    "data_info.groupby(['station_name', 'station_province', 'station_latitude',\n",
    "                   'station_longitude', 'station_elevation_m']).size()"
   ]
  },
  {
   "cell_type": "code",
   "execution_count": 33,
   "metadata": {},
   "outputs": [
    {
     "data": {
      "text/plain": [
       "Index(['row_id', 'station_id', 'station_name', 'station_province',\n",
       "       'station_latitude', 'station_longitude', 'location',\n",
       "       'station_elevation_m', 'station_climate_identifier',\n",
       "       'station_wmo_identifier', 'station_tc_identifier', 'year', 'month',\n",
       "       'day', 'date', 'maximum_temperature_c', 'minimum_temperature_c',\n",
       "       'mean_temperature_c', 'heating_degree_days_c', 'cooling_degree_days_c',\n",
       "       'total_precipitation_mm', ':@computed_region_da6r_6gkw',\n",
       "       ':@computed_region_uxfu_uxx8', ':@computed_region_ive2_3q52',\n",
       "       ':@computed_region_bhid_jnzh', ':@computed_region_ecxu_fw7u',\n",
       "       'snow_on_ground_cm', 'speed_of_maximum_wind_gust_km_h',\n",
       "       'direction_of_maximum_wind_gust_10s_deg', 'data_quality',\n",
       "       'total_rain_flag', 'total_snow_flag', 'total_rain_mm', 'total_snow_cm'],\n",
       "      dtype='object')"
      ]
     },
     "execution_count": 33,
     "metadata": {},
     "output_type": "execute_result"
    }
   ],
   "source": [
    "data.columns"
   ]
  },
  {
   "cell_type": "code",
   "execution_count": 34,
   "metadata": {},
   "outputs": [
    {
     "data": {
      "text/html": [
       "<div>\n",
       "<style scoped>\n",
       "    .dataframe tbody tr th:only-of-type {\n",
       "        vertical-align: middle;\n",
       "    }\n",
       "\n",
       "    .dataframe tbody tr th {\n",
       "        vertical-align: top;\n",
       "    }\n",
       "\n",
       "    .dataframe thead th {\n",
       "        text-align: right;\n",
       "    }\n",
       "</style>\n",
       "<table border=\"1\" class=\"dataframe\">\n",
       "  <thead>\n",
       "    <tr style=\"text-align: right;\">\n",
       "      <th></th>\n",
       "      <th>station_name</th>\n",
       "      <th>year</th>\n",
       "      <th>month</th>\n",
       "      <th>day</th>\n",
       "      <th>maximum_temperature_c</th>\n",
       "      <th>minimum_temperature_c</th>\n",
       "      <th>speed_of_maximum_wind_gust_km_h</th>\n",
       "      <th>total_rain_mm</th>\n",
       "      <th>total_snow_cm</th>\n",
       "    </tr>\n",
       "  </thead>\n",
       "  <tbody>\n",
       "    <tr>\n",
       "      <th>0</th>\n",
       "      <td>Downtown</td>\n",
       "      <td>2021</td>\n",
       "      <td>4</td>\n",
       "      <td>14</td>\n",
       "      <td>16.2</td>\n",
       "      <td>-0.7</td>\n",
       "      <td>NaN</td>\n",
       "      <td>NaN</td>\n",
       "      <td>NaN</td>\n",
       "    </tr>\n",
       "    <tr>\n",
       "      <th>1</th>\n",
       "      <td>Downtown</td>\n",
       "      <td>2021</td>\n",
       "      <td>4</td>\n",
       "      <td>15</td>\n",
       "      <td>17.5</td>\n",
       "      <td>-1.2</td>\n",
       "      <td>NaN</td>\n",
       "      <td>NaN</td>\n",
       "      <td>NaN</td>\n",
       "    </tr>\n",
       "    <tr>\n",
       "      <th>2</th>\n",
       "      <td>Downtown</td>\n",
       "      <td>2021</td>\n",
       "      <td>5</td>\n",
       "      <td>10</td>\n",
       "      <td>16.2</td>\n",
       "      <td>1.4</td>\n",
       "      <td>NaN</td>\n",
       "      <td>NaN</td>\n",
       "      <td>NaN</td>\n",
       "    </tr>\n",
       "    <tr>\n",
       "      <th>3</th>\n",
       "      <td>Downtown</td>\n",
       "      <td>2021</td>\n",
       "      <td>5</td>\n",
       "      <td>11</td>\n",
       "      <td>17.3</td>\n",
       "      <td>6.2</td>\n",
       "      <td>NaN</td>\n",
       "      <td>NaN</td>\n",
       "      <td>NaN</td>\n",
       "    </tr>\n",
       "    <tr>\n",
       "      <th>4</th>\n",
       "      <td>Downtown</td>\n",
       "      <td>2021</td>\n",
       "      <td>1</td>\n",
       "      <td>27</td>\n",
       "      <td>-15.1</td>\n",
       "      <td>-17.0</td>\n",
       "      <td>NaN</td>\n",
       "      <td>NaN</td>\n",
       "      <td>NaN</td>\n",
       "    </tr>\n",
       "    <tr>\n",
       "      <th>...</th>\n",
       "      <td>...</td>\n",
       "      <td>...</td>\n",
       "      <td>...</td>\n",
       "      <td>...</td>\n",
       "      <td>...</td>\n",
       "      <td>...</td>\n",
       "      <td>...</td>\n",
       "      <td>...</td>\n",
       "      <td>...</td>\n",
       "    </tr>\n",
       "    <tr>\n",
       "      <th>313</th>\n",
       "      <td>Edmonton International Airport</td>\n",
       "      <td>2023</td>\n",
       "      <td>12</td>\n",
       "      <td>30</td>\n",
       "      <td>3.7</td>\n",
       "      <td>-5.6</td>\n",
       "      <td>42</td>\n",
       "      <td>0.0</td>\n",
       "      <td>0.0</td>\n",
       "    </tr>\n",
       "    <tr>\n",
       "      <th>314</th>\n",
       "      <td>Edmonton International Airport</td>\n",
       "      <td>2023</td>\n",
       "      <td>12</td>\n",
       "      <td>30</td>\n",
       "      <td>4.0</td>\n",
       "      <td>-5.9</td>\n",
       "      <td>38</td>\n",
       "      <td>NaN</td>\n",
       "      <td>NaN</td>\n",
       "    </tr>\n",
       "    <tr>\n",
       "      <th>315</th>\n",
       "      <td>Villeneuve Airport</td>\n",
       "      <td>2023</td>\n",
       "      <td>12</td>\n",
       "      <td>30</td>\n",
       "      <td>3.4</td>\n",
       "      <td>-8.4</td>\n",
       "      <td>NaN</td>\n",
       "      <td>NaN</td>\n",
       "      <td>NaN</td>\n",
       "    </tr>\n",
       "    <tr>\n",
       "      <th>316</th>\n",
       "      <td>Stony Plain</td>\n",
       "      <td>2023</td>\n",
       "      <td>12</td>\n",
       "      <td>29</td>\n",
       "      <td>10.0</td>\n",
       "      <td>-4.0</td>\n",
       "      <td>NaN</td>\n",
       "      <td>0.0</td>\n",
       "      <td>0.0</td>\n",
       "    </tr>\n",
       "    <tr>\n",
       "      <th>317</th>\n",
       "      <td>Stony Plain</td>\n",
       "      <td>2023</td>\n",
       "      <td>12</td>\n",
       "      <td>30</td>\n",
       "      <td>3.5</td>\n",
       "      <td>-4.8</td>\n",
       "      <td>NaN</td>\n",
       "      <td>NaN</td>\n",
       "      <td>NaN</td>\n",
       "    </tr>\n",
       "  </tbody>\n",
       "</table>\n",
       "<p>80318 rows × 9 columns</p>\n",
       "</div>"
      ],
      "text/plain": [
       "                       station_name  year month day maximum_temperature_c  \\\n",
       "0                          Downtown  2021     4  14                  16.2   \n",
       "1                          Downtown  2021     4  15                  17.5   \n",
       "2                          Downtown  2021     5  10                  16.2   \n",
       "3                          Downtown  2021     5  11                  17.3   \n",
       "4                          Downtown  2021     1  27                 -15.1   \n",
       "..                              ...   ...   ...  ..                   ...   \n",
       "313  Edmonton International Airport  2023    12  30                   3.7   \n",
       "314  Edmonton International Airport  2023    12  30                   4.0   \n",
       "315              Villeneuve Airport  2023    12  30                   3.4   \n",
       "316                     Stony Plain  2023    12  29                  10.0   \n",
       "317                     Stony Plain  2023    12  30                   3.5   \n",
       "\n",
       "    minimum_temperature_c speed_of_maximum_wind_gust_km_h total_rain_mm  \\\n",
       "0                    -0.7                             NaN           NaN   \n",
       "1                    -1.2                             NaN           NaN   \n",
       "2                     1.4                             NaN           NaN   \n",
       "3                     6.2                             NaN           NaN   \n",
       "4                   -17.0                             NaN           NaN   \n",
       "..                    ...                             ...           ...   \n",
       "313                  -5.6                              42           0.0   \n",
       "314                  -5.9                              38           NaN   \n",
       "315                  -8.4                             NaN           NaN   \n",
       "316                  -4.0                             NaN           0.0   \n",
       "317                  -4.8                             NaN           NaN   \n",
       "\n",
       "    total_snow_cm  \n",
       "0             NaN  \n",
       "1             NaN  \n",
       "2             NaN  \n",
       "3             NaN  \n",
       "4             NaN  \n",
       "..            ...  \n",
       "313           0.0  \n",
       "314           NaN  \n",
       "315           NaN  \n",
       "316           0.0  \n",
       "317           NaN  \n",
       "\n",
       "[80318 rows x 9 columns]"
      ]
     },
     "execution_count": 34,
     "metadata": {},
     "output_type": "execute_result"
    }
   ],
   "source": [
    "cols_to_keep = ['station_name', 'year', 'month', 'day', 'maximum_temperature_c', 'minimum_temperature_c',\n",
    "                'speed_of_maximum_wind_gust_km_h', 'total_rain_mm', 'total_snow_cm']\n",
    "data = data[cols_to_keep]\n",
    "data"
   ]
  },
  {
   "cell_type": "code",
   "execution_count": 35,
   "metadata": {},
   "outputs": [
    {
     "name": "stdout",
     "output_type": "stream",
     "text": [
      "<class 'pandas.core.frame.DataFrame'>\n",
      "Int64Index: 80318 entries, 0 to 317\n",
      "Data columns (total 9 columns):\n",
      " #   Column                           Non-Null Count  Dtype \n",
      "---  ------                           --------------  ----- \n",
      " 0   station_name                     80318 non-null  object\n",
      " 1   year                             80318 non-null  object\n",
      " 2   month                            80318 non-null  object\n",
      " 3   day                              80318 non-null  object\n",
      " 4   maximum_temperature_c            77013 non-null  object\n",
      " 5   minimum_temperature_c            77527 non-null  object\n",
      " 6   speed_of_maximum_wind_gust_km_h  26367 non-null  object\n",
      " 7   total_rain_mm                    24026 non-null  object\n",
      " 8   total_snow_cm                    23779 non-null  object\n",
      "dtypes: object(9)\n",
      "memory usage: 6.1+ MB\n"
     ]
    }
   ],
   "source": [
    "data.info()"
   ]
  },
  {
   "cell_type": "code",
   "execution_count": 36,
   "metadata": {},
   "outputs": [
    {
     "name": "stdout",
     "output_type": "stream",
     "text": [
      "<class 'pandas.core.frame.DataFrame'>\n",
      "Int64Index: 76784 entries, 0 to 317\n",
      "Data columns (total 9 columns):\n",
      " #   Column                           Non-Null Count  Dtype \n",
      "---  ------                           --------------  ----- \n",
      " 0   station_name                     76784 non-null  object\n",
      " 1   year                             76784 non-null  object\n",
      " 2   month                            76784 non-null  object\n",
      " 3   day                              76784 non-null  object\n",
      " 4   maximum_temperature_c            76784 non-null  object\n",
      " 5   minimum_temperature_c            76784 non-null  object\n",
      " 6   speed_of_maximum_wind_gust_km_h  76784 non-null  object\n",
      " 7   total_rain_mm                    76784 non-null  object\n",
      " 8   total_snow_cm                    76784 non-null  object\n",
      "dtypes: object(9)\n",
      "memory usage: 5.9+ MB\n"
     ]
    }
   ],
   "source": [
    "# Fill missing values with 0\n",
    "data[['speed_of_maximum_wind_gust_km_h', 'total_rain_mm', 'total_snow_cm']] = data[['speed_of_maximum_wind_gust_km_h', 'total_rain_mm', 'total_snow_cm']].fillna(0)\n",
    "data.dropna(inplace=True)\n",
    "\n",
    "# Replace '<31' with 31\n",
    "data.replace({'speed_of_maximum_wind_gust_km_h': {'<31': 31}}, inplace=True)\n",
    "\n",
    "# Convert specified columns to integer\n",
    "int_columns = ['year', 'month', 'day']\n",
    "data.loc[:, int_columns] = data[int_columns].astype(int)\n",
    "\n",
    "# Convert specified columns to float\n",
    "float_columns = ['maximum_temperature_c', 'minimum_temperature_c', 'speed_of_maximum_wind_gust_km_h', 'total_rain_mm', 'total_snow_cm']\n",
    "data.loc[:, float_columns] = data[float_columns].astype(float)\n",
    "\n",
    "# Display information about DataFrame\n",
    "data.info()"
   ]
  },
  {
   "cell_type": "code",
   "execution_count": 38,
   "metadata": {},
   "outputs": [],
   "source": [
    "data.sort_values(by=['year', 'month', 'day', 'station_name'], inplace=True)\n",
    "data.reset_index(inplace=True)\n",
    "data.drop('index', axis=1, inplace=True)"
   ]
  },
  {
   "cell_type": "code",
   "execution_count": 39,
   "metadata": {},
   "outputs": [],
   "source": [
    "data.to_csv('weather_data.csv', index=False)"
   ]
  },
  {
   "cell_type": "markdown",
   "metadata": {},
   "source": [
    "### Splitting the data"
   ]
  },
  {
   "cell_type": "code",
   "execution_count": 40,
   "metadata": {},
   "outputs": [],
   "source": [
    "X, Y = data[['station_name', 'year', 'month', 'day']], data[['maximum_temperature_c', 'minimum_temperature_c', 'speed_of_maximum_wind_gust_km_h', 'total_rain_mm', 'total_snow_cm']]\n",
    "\n",
    "### Training Data range: 2000-01-01 to 2020-12-31\n",
    "### Validate Data Range: 2021-01-01 to 2021-12-31\n",
    "### Testing Data range: 2022-01-01 to end\n",
    "train_data = data[(data['year'] >= 2000) & (data['year'] <= 2020)]\n",
    "validate_data = data[(data['year'] == 2021)]\n",
    "test_data = data[(data['year'] >= 2022)]\n",
    "\n",
    "X_train, Y_train = train_data[['station_name', 'year', 'month', 'day']], train_data[['maximum_temperature_c', 'minimum_temperature_c', 'speed_of_maximum_wind_gust_km_h', 'total_rain_mm', 'total_snow_cm']]\n",
    "X_validate, Y_validate = validate_data[['station_name','year', 'month', 'day']], validate_data[['maximum_temperature_c', 'minimum_temperature_c', 'speed_of_maximum_wind_gust_km_h', 'total_rain_mm', 'total_snow_cm']]\n",
    "X_test, Y_test = test_data[['station_name', 'year', 'month', 'day']], test_data[['maximum_temperature_c', 'minimum_temperature_c', 'speed_of_maximum_wind_gust_km_h', 'total_rain_mm', 'total_snow_cm']]"
   ]
  },
  {
   "cell_type": "markdown",
   "metadata": {},
   "source": [
    "### Model Building"
   ]
  },
  {
   "cell_type": "code",
   "execution_count": 41,
   "metadata": {},
   "outputs": [
    {
     "name": "stdout",
     "output_type": "stream",
     "text": [
      "Mean Squared Error: 173.20101504691092\n"
     ]
    }
   ],
   "source": [
    "from sklearn.preprocessing import OneHotEncoder\n",
    "from sklearn.compose import ColumnTransformer\n",
    "\n",
    "# Preprocess the data\n",
    "preprocessor = ColumnTransformer(\n",
    "    transformers=[\n",
    "        ('onehot', OneHotEncoder(), ['station_name'])\n",
    "    ], remainder='passthrough')"
   ]
  },
  {
   "cell_type": "code",
   "execution_count": 48,
   "metadata": {},
   "outputs": [
    {
     "name": "stdout",
     "output_type": "stream",
     "text": [
      "RandomForestRegressor() MSE: 170.3871148648198\n",
      "HistGradientBoostingRegressor() MSE: 127.07971702582003\n",
      "XGBRegressor(base_score=None, booster=None, callbacks=None,\n",
      "             colsample_bylevel=None, colsample_bynode=None,\n",
      "             colsample_bytree=None, device=None, early_stopping_rounds=None,\n",
      "             enable_categorical=False, eval_metric=None, feature_types=None,\n",
      "             gamma=None, grow_policy=None, importance_type=None,\n",
      "             interaction_constraints=None, learning_rate=None, max_bin=None,\n",
      "             max_cat_threshold=None, max_cat_to_onehot=None,\n",
      "             max_delta_step=None, max_depth=None, max_leaves=None,\n",
      "             min_child_weight=None, missing=nan, monotone_constraints=None,\n",
      "             multi_strategy=None, n_estimators=None, n_jobs=None,\n",
      "             num_parallel_tree=None, random_state=None, ...) MSE: 148.84134041881555\n",
      "Ridge() MSE: 173.1650173918037\n",
      "KNeighborsRegressor(n_neighbors=6, weights='distance') MSE: 148.4625602250294\n",
      "DecisionTreeRegressor() MSE: 180.3956677848817\n"
     ]
    }
   ],
   "source": [
    "from sklearn.pipeline import Pipeline\n",
    "\n",
    "from sklearn.linear_model import Ridge\n",
    "from sklearn.ensemble import RandomForestRegressor\n",
    "from sklearn.ensemble import HistGradientBoostingRegressor\n",
    "from xgboost import XGBRegressor\n",
    "from sklearn.multioutput import MultiOutputRegressor\n",
    "from sklearn.neighbors import KNeighborsRegressor\n",
    "from sklearn.tree import DecisionTreeRegressor\n",
    "\n",
    "from sklearn.metrics import mean_squared_error\n",
    "\n",
    "models = [RandomForestRegressor(), \n",
    "          HistGradientBoostingRegressor(), \n",
    "          XGBRegressor(), \n",
    "          Ridge(), \n",
    "          KNeighborsRegressor(n_neighbors=6, weights='distance'), \n",
    "          DecisionTreeRegressor()]\n",
    "\n",
    "trainedModels = {}\n",
    "count = 1\n",
    "for model in models:\n",
    "    pipeline = Pipeline(steps=[('preprocessor', preprocessor),\n",
    "                           ('regressor', MultiOutputRegressor(model))])\n",
    "    pipeline.fit(X_train, Y_train)\n",
    "    Y_validate_pred = pipeline.predict(X_validate)\n",
    "    print(f'{model} MSE:', mean_squared_error(Y_validate, Y_validate_pred))\n",
    "    trainedModels[\"model_%s\" % count] = pipeline\n",
    "    count += 1"
   ]
  },
  {
   "cell_type": "markdown",
   "metadata": {},
   "source": [
    "### Selecting a model and fine tuning it"
   ]
  },
  {
   "cell_type": "code",
   "execution_count": 57,
   "metadata": {},
   "outputs": [
    {
     "name": "stdout",
     "output_type": "stream",
     "text": [
      "Fitting 5 folds for each of 100 candidates, totalling 500 fits\n",
      "Best parameters found:  {'regressor__estimator__max_leaf_nodes': 10, 'regressor__estimator__max_iter': 500, 'regressor__estimator__max_depth': 50, 'regressor__estimator__learning_rate': 0.01, 'regressor__estimator__l2_regularization': 0.1}\n",
      "Lowest MSE found:  0.3385309649922195\n",
      "Best model:  Pipeline(steps=[('preprocessor',\n",
      "                 ColumnTransformer(remainder='passthrough',\n",
      "                                   transformers=[('onehot', OneHotEncoder(),\n",
      "                                                  ['station_name'])])),\n",
      "                ('regressor',\n",
      "                 MultiOutputRegressor(estimator=HistGradientBoostingRegressor(l2_regularization=0.1,\n",
      "                                                                              learning_rate=0.01,\n",
      "                                                                              max_depth=50,\n",
      "                                                                              max_iter=500,\n",
      "                                                                              max_leaf_nodes=10)))])\n"
     ]
    }
   ],
   "source": [
    "### Select the best model\n",
    "bestModel = trainedModels[\"model_2\"]\n",
    "\n",
    "### Fine tuning it by using KFold and RandomizedSearchCV\n",
    "from sklearn.model_selection import RandomizedSearchCV\n",
    "from sklearn.model_selection import KFold\n",
    "\n",
    "param_grid = {\n",
    "    'regressor__estimator__max_iter': [100, 200, 300, 400, 500],\n",
    "    'regressor__estimator__max_depth': [10, 20, 30, 40, 50, None],\n",
    "    'regressor__estimator__max_leaf_nodes': [10, 20, 30, 40, 50],\n",
    "    'regressor__estimator__l2_regularization': [0.1, 0.2, 0.3, 0.4, 0.5],\n",
    "    'regressor__estimator__learning_rate': [0.01, 0.05, 0.1, 0.2, 0.3]\n",
    "}\n",
    "\n",
    "kf = KFold(n_splits=5, shuffle=False)\n",
    "random_search = RandomizedSearchCV(bestModel, param_distributions=param_grid, \n",
    "                                   n_iter=100, cv=kf, n_jobs=-1, verbose=3, random_state=42)\n",
    "\n",
    "random_search.fit(X_train, Y_train)\n",
    "\n",
    "print(\"Best parameters found: \", random_search.best_params_)\n",
    "print(\"Lowest MSE found: \", random_search.best_score_)\n",
    "print(\"Best model: \", random_search.best_estimator_)"
   ]
  },
  {
   "cell_type": "code",
   "execution_count": 58,
   "metadata": {},
   "outputs": [],
   "source": [
    "bestModel = random_search.best_estimator_"
   ]
  },
  {
   "cell_type": "code",
   "execution_count": 59,
   "metadata": {},
   "outputs": [
    {
     "name": "stdout",
     "output_type": "stream",
     "text": [
      "MSE:  111.82288655941667\n"
     ]
    }
   ],
   "source": [
    "Y_validate_pred = bestModel.predict(X_validate)\n",
    "print('MSE: ', mean_squared_error(Y_validate, Y_validate_pred))"
   ]
  },
  {
   "cell_type": "code",
   "execution_count": null,
   "metadata": {},
   "outputs": [],
   "source": []
  }
 ],
 "metadata": {
  "kernelspec": {
   "display_name": "Python 3",
   "language": "python",
   "name": "python3"
  },
  "language_info": {
   "codemirror_mode": {
    "name": "ipython",
    "version": 3
   },
   "file_extension": ".py",
   "mimetype": "text/x-python",
   "name": "python",
   "nbconvert_exporter": "python",
   "pygments_lexer": "ipython3",
   "version": "3.10.11"
  }
 },
 "nbformat": 4,
 "nbformat_minor": 2
}
